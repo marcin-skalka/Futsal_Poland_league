{
 "cells": [
  {
   "cell_type": "code",
   "execution_count": 24,
   "id": "300a6c36",
   "metadata": {},
   "outputs": [],
   "source": [
    "import pandas as pd\n",
    "import matplotlib.pyplot as plt\n",
    "import seaborn as sns\n",
    "from scipy.stats import poisson, chisquare"
   ]
  },
  {
   "cell_type": "code",
   "execution_count": 25,
   "id": "e79552ab",
   "metadata": {},
   "outputs": [],
   "source": [
    "#FUNKCJE :\n",
    "import numpy as np\n",
    "\n",
    "def test_poisson(data):    \n",
    "    lambda_ = data.mean()\n",
    "\n",
    "    max_val = data.max()\n",
    "\n",
    "    # oczekiwane prawdopodobieństwa dla każdej liczby zdarzeń\n",
    "    expected_probs = [poisson.pmf(k, lambda_) for k in range(max_val + 1)]\n",
    "\n",
    "    # przeliczamy na oczekiwane częstości\n",
    "    expected_freq = np.array(expected_probs) * len(data)\n",
    "\n",
    "    observed_freq = np.array([sum(data == k) for k in range(max_val + 1)])\n",
    "\n",
    "    # przeskalowanie, aby suma zgadzała się z obserwacjami\n",
    "    expected_freq = expected_freq * (observed_freq.sum() / expected_freq.sum())\n",
    "    chi2, p = chisquare(f_obs=observed_freq, f_exp=expected_freq)\n",
    "\n",
    "    return {'chi2':chi2,'p':p}, expected_probs,expected_freq\n",
    "\n",
    "def remove_outliers(df):\n",
    "    Q1 = df.quantile(0.25)\n",
    "    Q3 = df.quantile(0.75)\n",
    "    IQR = Q3 - Q1\n",
    "\n",
    "    filtered_df = df[~((df < (Q1 - 1.5*IQR)) | (df > (Q3 + 1.5*IQR)))]\n",
    "    return filtered_df\n"
   ]
  },
  {
   "cell_type": "code",
   "execution_count": 26,
   "id": "140a9e1e",
   "metadata": {},
   "outputs": [
    {
     "name": "stdout",
     "output_type": "stream",
     "text": [
      "240\n"
     ]
    },
    {
     "data": {
      "text/plain": [
       "240"
      ]
     },
     "execution_count": 26,
     "metadata": {},
     "output_type": "execute_result"
    }
   ],
   "source": [
    "pierwsza_połowa = [3,2,5,2,2,5,3,4,\n",
    "                   6,1,5,6,4,1,10,4,\n",
    "                   3,1,2,1,3,4,1,1,6,\n",
    "                   3,1,5,2,2,4,5,0,\n",
    "                   1,5,5,5,4,3,1,5,\n",
    "                   3,5,7,3,2,6,1,2,\n",
    "                   1,3,3,2,2,2,3,1,\n",
    "                   4,2,2,1,1,2,3,3,\n",
    "                   4,5,4,1,3,4,3,2,\n",
    "                   0,3,2,6,3,4,4,4,\n",
    "                   3,2,1,3,4,3,1,2,\n",
    "                   3,4,5,2,4,3,0,1,\n",
    "                   3,4,3,4,7,8,2,4,\n",
    "                   2,2,2,2,3,1,1,2,\n",
    "                   3,4,3,2,5,3,4,2,\n",
    "                   5,5,4,1,2,7,3,5,\n",
    "                   6,2,5,3,5,3,5,2,\n",
    "                   2,1,4,2,6,4,4,\n",
    "                   1,2,1,3,3,2,7,2,\n",
    "                   1,3,1,1,4,4,0,3,\n",
    "                   2,6,4,1,2,5,2,0,\n",
    "                   5,3,7,1,5,1,5,3,\n",
    "                   4,6,3,6,2,2,6,5,\n",
    "                   2,4,1,5,2,3,1,3,\n",
    "                   3,5,3,2,5,3,1,5,\n",
    "                   2,2,1,1,1,5,7,1,\n",
    "                   3,3,3,2,2,2,6,4,\n",
    "                   4,5,6,1,4,2,3,2,\n",
    "                   5,1,2,2,2,4,2,0,\n",
    "                   2,1,3,2,3,0,5,3]\n",
    "print(len(pierwsza_połowa))\n",
    "8*30"
   ]
  },
  {
   "cell_type": "code",
   "execution_count": 27,
   "id": "bdb09200",
   "metadata": {},
   "outputs": [
    {
     "data": {
      "text/plain": [
       "<seaborn.axisgrid.FacetGrid at 0x1edce8afac0>"
      ]
     },
     "execution_count": 27,
     "metadata": {},
     "output_type": "execute_result"
    }
   ],
   "source": [
    "df_pierwsza = pd.DataFrame(pierwsza_połowa,columns = ['pierwsza_połowa'])\n",
    "df_pierwsza.value_counts()\n",
    "sns.catplot(kind = 'count', data = df_pierwsza, x='pierwsza_połowa')\n",
    "sns.catplot(kind = 'box', data = df_pierwsza, x='pierwsza_połowa')\n",
    "\n",
    "\n"
   ]
  },
  {
   "cell_type": "code",
   "execution_count": 28,
   "id": "545441c9",
   "metadata": {},
   "outputs": [
    {
     "data": {
      "text/plain": [
       "<seaborn.axisgrid.FacetGrid at 0x1edce8a42e0>"
      ]
     },
     "execution_count": 28,
     "metadata": {},
     "output_type": "execute_result"
    }
   ],
   "source": [
    "df_pierwsza_wo_outliers = pd.DataFrame()\n",
    "df_pierwsza_wo_outliers['pierwsza_połowa'] = remove_outliers(df_pierwsza['pierwsza_połowa'])\n",
    "sns.catplot(kind = 'count', data = df_pierwsza_wo_outliers, x='pierwsza_połowa')\n",
    "sns.catplot(kind = 'box', data = df_pierwsza_wo_outliers, x='pierwsza_połowa')\n"
   ]
  },
  {
   "cell_type": "code",
   "execution_count": 29,
   "id": "7958a15d",
   "metadata": {},
   "outputs": [
    {
     "name": "stdout",
     "output_type": "stream",
     "text": [
      "{'chi2': 10.077337627458057, 'p': 0.4337346076972762}\n",
      "{'chi2': 6.368777447318916, 'p': 0.4974080875902789}\n"
     ]
    }
   ],
   "source": [
    "print(test_poisson(df_pierwsza['pierwsza_połowa'])[0])\n",
    "print(test_poisson(df_pierwsza_wo_outliers['pierwsza_połowa'])[0])\n",
    "\n",
    "expected_freq = test_poisson(df_pierwsza['pierwsza_połowa'])[2]\n",
    "\n"
   ]
  },
  {
   "cell_type": "code",
   "execution_count": 30,
   "id": "86b44a65",
   "metadata": {},
   "outputs": [
    {
     "name": "stderr",
     "output_type": "stream",
     "text": [
      "c:\\Users\\mar12\\anaconda3\\lib\\site-packages\\seaborn\\categorical.py:253: FutureWarning: The default of observed=False is deprecated and will be changed to True in a future version of pandas. Pass observed=False to retain current behavior or observed=True to adopt the future default and silence this warning.\n",
      "  grouped_vals = vals.groupby(grouper)\n",
      "c:\\Users\\mar12\\anaconda3\\lib\\site-packages\\seaborn\\categorical.py:253: FutureWarning: The default of observed=False is deprecated and will be changed to True in a future version of pandas. Pass observed=False to retain current behavior or observed=True to adopt the future default and silence this warning.\n",
      "  grouped_vals = vals.groupby(grouper)\n"
     ]
    },
    {
     "data": {
      "text/plain": [
       "[<matplotlib.lines.Line2D at 0x1edce6323a0>]"
      ]
     },
     "execution_count": 30,
     "metadata": {},
     "output_type": "execute_result"
    }
   ],
   "source": [
    "\n",
    "full_range = range(0, 11)\n",
    "df_pierwsza['pierwsza_połowa_cat'] = pd.Categorical(df_pierwsza['pierwsza_połowa'],categories=full_range)\n",
    "g = sns.catplot(kind = 'count', data = df_pierwsza, x='pierwsza_połowa_cat')\n",
    "ax = g.ax\n",
    "\n",
    "# dodanie oczekiwanych wartości Poissona jako czerwone punkty\n",
    "ax.plot(range(11), expected_freq, 'ro-', label='Poisson expected')\n"
   ]
  },
  {
   "cell_type": "code",
   "execution_count": 31,
   "id": "380052ef",
   "metadata": {},
   "outputs": [],
   "source": [
    "data = pd.DataFrame()"
   ]
  }
 ],
 "metadata": {
  "kernelspec": {
   "display_name": "base",
   "language": "python",
   "name": "python3"
  },
  "language_info": {
   "codemirror_mode": {
    "name": "ipython",
    "version": 3
   },
   "file_extension": ".py",
   "mimetype": "text/x-python",
   "name": "python",
   "nbconvert_exporter": "python",
   "pygments_lexer": "ipython3",
   "version": "3.9.7"
  }
 },
 "nbformat": 4,
 "nbformat_minor": 5
}
